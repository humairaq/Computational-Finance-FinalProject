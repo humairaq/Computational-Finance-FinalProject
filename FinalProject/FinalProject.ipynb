{
 "cells": [
  {
   "cell_type": "markdown",
   "metadata": {},
   "source": [
    "## CSCI 365/765 Final Project"
   ]
  },
  {
   "cell_type": "markdown",
   "metadata": {},
   "source": [
    "## Due Date: 6/29 before mid-night"
   ]
  },
  {
   "cell_type": "markdown",
   "metadata": {},
   "source": [
    "### Instructor: Alex Pang, Summer 2021"
   ]
  },
  {
   "cell_type": "code",
   "execution_count": 1,
   "metadata": {},
   "outputs": [],
   "source": [
    "import pandas as pd\n",
    "import numpy as np\n",
    "from datetime import date\n",
    "from math import log, exp, sqrt, pow"
   ]
  },
  {
   "cell_type": "code",
   "execution_count": 2,
   "metadata": {},
   "outputs": [],
   "source": [
    "# import all classes\n",
    "from stock import Stock\n",
    "from option import *\n",
    "from binomial_model import BinomialModel\n",
    "from blackscholes_model import BlackScholesModel\n",
    "from discount_cf_model import DiscountedCashFlowModel"
   ]
  },
  {
   "cell_type": "code",
   "execution_count": 3,
   "metadata": {},
   "outputs": [],
   "source": [
    "# example pricing_date and risk free rate\n",
    "#pricing_date = date(2021, 6, 1)\n",
    "#risk_free_rate = 0.04\n",
    "pricing_date = date(2021,6,27)"
   ]
  },
  {
   "cell_type": "markdown",
   "metadata": {},
   "source": [
    "### Question 1 (Problem 13.5 of the textbook modified)"
   ]
  },
  {
   "cell_type": "markdown",
   "metadata": {},
   "source": [
    "### A stock price is currently 100. Over each of the next two six-month periods it is expected to go up by 10% (i.e. by a multiple factor of u = 1.1) or down by a multiple factor of d where d = 1/u. The risk-free interest rate is 8% per annum with continuous compounding. What is the value of a one-year European call option with a strike price of 100 using Binomial Model? "
   ]
  },
  {
   "cell_type": "markdown",
   "metadata": {},
   "source": [
    "**Type your code below**"
   ]
  },
  {
   "cell_type": "code",
   "execution_count": 4,
   "metadata": {},
   "outputs": [
    {
     "name": "stdout",
     "output_type": "stream",
     "text": [
      "Binomial European call model price: 6.834456132124545\n"
     ]
    }
   ],
   "source": [
    "S0 = 100\n",
    "K = 100\n",
    "T = 6/12\n",
    "num_period = 2\n",
    "u = 1.1 \n",
    "d = 1/u\n",
    "dt = T/num_period\n",
    "risk_free_rate = 0.08\n",
    "sigma = log(u) / sqrt(dt)\n",
    "model = BinomialModel(pricing_date, risk_free_rate)\n",
    "print(\"Binomial European call model price:\",model._binomial_european_call(S0,K,T,risk_free_rate,sigma,0,num_period))"
   ]
  },
  {
   "cell_type": "markdown",
   "metadata": {},
   "source": [
    "### Question 2. Using the same assumption from Question 1. Calculate the European Put option with the same strike and expiry using Binomial Tree. Calculate also implied put price from the call price using Put-Call parity and the implied call price from the put price. Does Put-Call Parity hold for Binomial trees?"
   ]
  },
  {
   "cell_type": "markdown",
   "metadata": {},
   "source": [
    "**Type your code and answer below**"
   ]
  },
  {
   "cell_type": "code",
   "execution_count": 5,
   "metadata": {},
   "outputs": [
    {
     "name": "stdout",
     "output_type": "stream",
     "text": [
      "Binomial European call model price:  6.834456132124545\n",
      "Call parity 2.913400047356859\n"
     ]
    }
   ],
   "source": [
    "S0 = 100\n",
    "K = 100\n",
    "T = 6/12\n",
    "num_period = 2\n",
    "u = 1.1 \n",
    "d = 1/u\n",
    "dt = T/num_period\n",
    "risk_free_rate = 0.08\n",
    "model = BinomialModel(pricing_date, risk_free_rate)\n",
    "sigma = log(u) / sqrt(dt)\n",
    "symbol = ''\n",
    "stock = Stock(symbol, S0, sigma)\n",
    "option = EuropeanCallOption(stock, T, K)\n",
    "model_price = model.calc_model_price(option,num_period)\n",
    "print(\"Binomial European call model price: \",model_price)\n",
    "print(\"Call parity\",model.calc_parity_price(option,model_price))\n"
   ]
  },
  {
   "cell_type": "markdown",
   "metadata": {},
   "source": [
    "### Question 3  (Problem 13.17 of the textbook) "
   ]
  },
  {
   "cell_type": "markdown",
   "metadata": {},
   "source": [
    "### A stock index is currently 1,500. Its volatility is 18%. The risk-free rate is 4% per annum (continuously compounded) for all maturities and the dividend yield on the index is 2.5%. What is the value a 12-month American put option with a strike price of 1,480 given by a two-step binomial tree."
   ]
  },
  {
   "cell_type": "markdown",
   "metadata": {},
   "source": [
    "**Type your answer below**"
   ]
  },
  {
   "cell_type": "code",
   "execution_count": 6,
   "metadata": {},
   "outputs": [
    {
     "name": "stdout",
     "output_type": "stream",
     "text": [
      "Value:  78.4137177695263\n"
     ]
    }
   ],
   "source": [
    "S0 = 1500\n",
    "K = 1480\n",
    "T = 1\n",
    "N = 2\n",
    "u = 1.1 \n",
    "d = 1/u\n",
    "dt = T/N\n",
    "r = 0.04\n",
    "sigma = .18\n",
    "q = .025\n",
    "pricing_date = date(2021,6,27)\n",
    "model = BinomialModel(pricing_date, r)\n",
    "\n",
    "print(\"Value: \",model._binomial_american_put( S0, K, T, r, sigma, q, N))\n"
   ]
  },
  {
   "cell_type": "markdown",
   "metadata": {},
   "source": [
    "### Question 4 (Problem 13.18 of the textbook)"
   ]
  },
  {
   "cell_type": "markdown",
   "metadata": {},
   "source": [
    "### The futures price of a commodity is 90.  Use a three-step Binomial tree to value (a) a nine-month American call option with strike price \\$93 and (b) a nine-month American put option with strike price 93. The volatility is 28% and the risk-free rate (all maturities) is 3% with continuous compounding"
   ]
  },
  {
   "cell_type": "markdown",
   "metadata": {},
   "source": [
    "**Type your code below**"
   ]
  },
  {
   "cell_type": "code",
   "execution_count": 7,
   "metadata": {},
   "outputs": [
    {
     "name": "stdout",
     "output_type": "stream",
     "text": [
      "a.Value of american call:  8.07058505889239\n",
      "b.Value of american put:  10.738165155283832\n"
     ]
    }
   ],
   "source": [
    "#a\n",
    "S0 = 90\n",
    "K = 93\n",
    "T = .75\n",
    "N = 3\n",
    "dt = T/N\n",
    "r = 0.03\n",
    "sigma = .28\n",
    "\n",
    "model = BinomialModel(pricing_date, r)\n",
    "\n",
    "print(\"a.Value of american call: \",model._binomial_american_call( S0, K, T, r, sigma, q, N))\n",
    "print(\"b.Value of american put: \",model._binomial_american_put( S0, K, T, r, sigma, q, N))"
   ]
  },
  {
   "cell_type": "markdown",
   "metadata": {},
   "source": [
    "### Question 5 (Problem 15.4 of the textbook)"
   ]
  },
  {
   "cell_type": "markdown",
   "metadata": {},
   "source": [
    "### Calculate the price of a three-month European put option on a non-dividend-paying stock with a strike price of 50 when the current stock price is 50, the risk-free interest rate is 10% per annum, and the volatility is 30% per annum using Black-Scholes Model "
   ]
  },
  {
   "cell_type": "markdown",
   "metadata": {},
   "source": [
    "**Type your code and answer below**"
   ]
  },
  {
   "cell_type": "code",
   "execution_count": 8,
   "metadata": {},
   "outputs": [
    {
     "name": "stdout",
     "output_type": "stream",
     "text": [
      "European put option 2.3759406675006467\n"
     ]
    }
   ],
   "source": [
    "T = 3/12\n",
    "S0 = 50\n",
    "K = 50\n",
    "sigma = 0.3\n",
    "risk_free_rate = .1\n",
    "symbol = ''\n",
    "model = BlackScholesModel(pricing_date, risk_free_rate)\n",
    "stock = Stock(symbol, S0, sigma)\n",
    "option = EuropeanPutOption(stock, T, K)\n",
    "\n",
    "model_price = model.calc_model_price(option)\n",
    "print(\"European put option\", model_price)"
   ]
  },
  {
   "cell_type": "markdown",
   "metadata": {},
   "source": [
    "### Question 6. Calculate the same call and put from Question 4, but assume European style and use Black-Scholes Model. Calculate also the European Call using the same assumptions as the put in Q5"
   ]
  },
  {
   "cell_type": "markdown",
   "metadata": {},
   "source": [
    "**Type your code and answer below**"
   ]
  },
  {
   "cell_type": "code",
   "execution_count": 9,
   "metadata": {},
   "outputs": [
    {
     "name": "stdout",
     "output_type": "stream",
     "text": [
      "Q4-European Put Option:  6.7736428957044765\n",
      "Q4-European Call Option:  10.493498667149062\n"
     ]
    }
   ],
   "source": [
    "S0 = 90\n",
    "K = 93\n",
    "T = 9/12\n",
    "N = 3\n",
    "dt = T/num_period\n",
    "r = 0.03\n",
    "sigma = .28\n",
    "symbol = ''\n",
    "model = BlackScholesModel(pricing_date, risk_free_rate)\n",
    "stock = Stock(symbol, S0, sigma)\n",
    "euro_put_option = EuropeanPutOption(stock, T, K)\n",
    "euro_call_option = EuropeanCallOption(stock, T, K)\n",
    "print(\"Q4-European Put Option: \",model.calc_model_price(euro_put_option))\n",
    "print(\"Q4-European Call Option: \",model.calc_model_price(euro_call_option))"
   ]
  },
  {
   "cell_type": "code",
   "execution_count": 10,
   "metadata": {},
   "outputs": [
    {
     "name": "stdout",
     "output_type": "stream",
     "text": [
      "Q5-European Call option 3.610445066084015\n"
     ]
    }
   ],
   "source": [
    "T = 3/12\n",
    "S0 = 50\n",
    "K = 50\n",
    "sigma = 0.3\n",
    "risk_free_rate = .1\n",
    "symbol = ''\n",
    "model = BlackScholesModel(pricing_date, risk_free_rate)\n",
    "stock = Stock(symbol, S0, sigma)\n",
    "option = EuropeanCallOption(stock, T, K)\n",
    "\n",
    "model_price = model.calc_model_price(option)\n",
    "print(\"Q5-European Call option\", model_price)"
   ]
  },
  {
   "cell_type": "markdown",
   "metadata": {},
   "source": [
    "### Question 7 (Problem 19.3 of the textbook)"
   ]
  },
  {
   "cell_type": "markdown",
   "metadata": {},
   "source": [
    "### Calculate the delta of an at-the-money six-month European call option on a non-dividend-paying stock when the risk-free interest rate is 10% per annum and the stock price volatility is 25% per annum. "
   ]
  },
  {
   "cell_type": "markdown",
   "metadata": {},
   "source": [
    "**Type your code here**"
   ]
  },
  {
   "cell_type": "code",
   "execution_count": 11,
   "metadata": {},
   "outputs": [
    {
     "name": "stdout",
     "output_type": "stream",
     "text": [
      "Delta:  0.6447672796293542\n"
     ]
    }
   ],
   "source": [
    "symbol = ''\n",
    "\n",
    "risk_free_rate = 0.10\n",
    "model = BlackScholesModel(pricing_date, risk_free_rate)\n",
    "\n",
    "T = 6/12\n",
    "\n",
    "S0 = 130\n",
    "K = 130\n",
    "\n",
    "sigma = 0.25\n",
    "\n",
    "stock = Stock(symbol, S0, sigma)\n",
    "\n",
    "option = EuropeanCallOption(stock, T, K)\n",
    "\n",
    "model_price = model.calc_model_price(option)\n",
    "\n",
    "delta = model.calc_delta(option)\n",
    "print(\"Delta: \",delta)"
   ]
  },
  {
   "cell_type": "markdown",
   "metadata": {},
   "source": [
    "### Question 8. Calculate the gamma, theta, vega and rho of the same European call option in Question 7"
   ]
  },
  {
   "cell_type": "markdown",
   "metadata": {},
   "source": [
    "**Type your code here**"
   ]
  },
  {
   "cell_type": "code",
   "execution_count": 22,
   "metadata": {},
   "outputs": [
    {
     "name": "stdout",
     "output_type": "stream",
     "text": [
      "gamma:  0.02106490237992387\n",
      "theta:  -12.072231283969437\n",
      "vega:  0.2633112797490484\n",
      "rho:  0.27447246451216145\n"
     ]
    }
   ],
   "source": [
    "symbol = ''\n",
    "\n",
    "risk_free_rate = 0.10\n",
    "model = BlackScholesModel(0, risk_free_rate)\n",
    "\n",
    "T = 6/12\n",
    "\n",
    "S0 = 100\n",
    "K = 100\n",
    "\n",
    "sigma = 0.25\n",
    "\n",
    "stock = Stock(symbol, S0, sigma)\n",
    "\n",
    "option = EuropeanCallOption(stock, T, K)\n",
    "\n",
    "model_price = model.calc_model_price(option)\n",
    "\n",
    "gamma = model.calc_gamma(option)\n",
    "theta = model.calc_theta(option)\n",
    "vega = model.calc_vega(option)\n",
    "rho = model.calc_rho(option)\n",
    "print(\"gamma: \", gamma)\n",
    "print(\"theta: \",theta)\n",
    "print(\"vega: \",vega)\n",
    "print(\"rho: \",rho)"
   ]
  },
  {
   "cell_type": "markdown",
   "metadata": {},
   "source": [
    "### Question 9: (Optional for undergraduate) Plot the graph of Delta, Gamma, Theta, Vega and Rho for the Call Option described in Question 7"
   ]
  },
  {
   "cell_type": "code",
   "execution_count": null,
   "metadata": {},
   "outputs": [],
   "source": []
  },
  {
   "cell_type": "code",
   "execution_count": null,
   "metadata": {},
   "outputs": [],
   "source": []
  }
 ],
 "metadata": {
  "kernelspec": {
   "display_name": "Python 3",
   "language": "python",
   "name": "python3"
  },
  "language_info": {
   "codemirror_mode": {
    "name": "ipython",
    "version": 3
   },
   "file_extension": ".py",
   "mimetype": "text/x-python",
   "name": "python",
   "nbconvert_exporter": "python",
   "pygments_lexer": "ipython3",
   "version": "3.7.10"
  }
 },
 "nbformat": 4,
 "nbformat_minor": 2
}
